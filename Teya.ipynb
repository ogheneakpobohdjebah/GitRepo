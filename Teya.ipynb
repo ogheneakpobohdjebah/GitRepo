{
  "nbformat": 4,
  "nbformat_minor": 0,
  "metadata": {
    "colab": {
      "provenance": []
    },
    "kernelspec": {
      "name": "python3",
      "display_name": "Python 3"
    },
    "language_info": {
      "name": "python"
    }
  },
  "cells": [
    {
      "cell_type": "code",
      "execution_count": 1,
      "metadata": {
        "colab": {
          "base_uri": "https://localhost:8080/"
        },
        "id": "e0hlaajgZLkm",
        "outputId": "b2edc114-5a98-4322-83c6-5d01e9ba9a6c"
      },
      "outputs": [
        {
          "output_type": "stream",
          "name": "stdout",
          "text": [
            "Mounted at /content/drive\n"
          ]
        }
      ],
      "source": [
        "#mount google drive to ingest data\n",
        "from google.colab import drive\n",
        "drive.mount('/content/drive')"
      ]
    },
    {
      "cell_type": "code",
      "source": [
        "!pip install pyspark==3.0.1 py4j==0.10.9"
      ],
      "metadata": {
        "colab": {
          "base_uri": "https://localhost:8080/"
        },
        "id": "aDan3TX4addv",
        "outputId": "84050e15-8a91-47e8-cde0-e10c34cbd261"
      },
      "execution_count": 2,
      "outputs": [
        {
          "output_type": "stream",
          "name": "stdout",
          "text": [
            "Looking in indexes: https://pypi.org/simple, https://us-python.pkg.dev/colab-wheels/public/simple/\n",
            "Collecting pyspark==3.0.1\n",
            "  Downloading pyspark-3.0.1.tar.gz (204.2 MB)\n",
            "\u001b[2K     \u001b[90m━━━━━━━━━━━━━━━━━━━━━━━━━━━━━━━━━━━━━━━\u001b[0m \u001b[32m204.2/204.2 MB\u001b[0m \u001b[31m6.7 MB/s\u001b[0m eta \u001b[36m0:00:00\u001b[0m\n",
            "\u001b[?25h  Preparing metadata (setup.py) ... \u001b[?25l\u001b[?25hdone\n",
            "Collecting py4j==0.10.9\n",
            "  Downloading py4j-0.10.9-py2.py3-none-any.whl (198 kB)\n",
            "\u001b[2K     \u001b[90m━━━━━━━━━━━━━━━━━━━━━━━━━━━━━━━━━━━━━━\u001b[0m \u001b[32m198.6/198.6 kB\u001b[0m \u001b[31m27.1 MB/s\u001b[0m eta \u001b[36m0:00:00\u001b[0m\n",
            "\u001b[?25hBuilding wheels for collected packages: pyspark\n",
            "  Building wheel for pyspark (setup.py) ... \u001b[?25l\u001b[?25hdone\n",
            "  Created wheel for pyspark: filename=pyspark-3.0.1-py2.py3-none-any.whl size=204612247 sha256=80a3e6de63225a52efa04d077aa3b0f5ea9bbfa753febda3c85b6261ed5e3059\n",
            "  Stored in directory: /root/.cache/pip/wheels/19/b0/c8/6cb894117070e130fc44352c2a13f15b6c27e440d04a84fb48\n",
            "Successfully built pyspark\n",
            "Installing collected packages: py4j, pyspark\n",
            "  Attempting uninstall: py4j\n",
            "    Found existing installation: py4j 0.10.9.7\n",
            "    Uninstalling py4j-0.10.9.7:\n",
            "      Successfully uninstalled py4j-0.10.9.7\n",
            "Successfully installed py4j-0.10.9 pyspark-3.0.1\n"
          ]
        }
      ]
    },
    {
      "cell_type": "code",
      "source": [
        "# Install library for finding Spark\n",
        "!pip install -q findspark\n",
        "# Import the libary\n",
        "import findspark\n",
        "# Initiate findspark\n",
        "findspark.init()\n",
        "# Check the location for Spark\n",
        "findspark.find()"
      ],
      "metadata": {
        "colab": {
          "base_uri": "https://localhost:8080/",
          "height": 36
        },
        "id": "OQRYKuT9a_IJ",
        "outputId": "c751a853-ff99-4c23-a25f-bb3d3ea4d8b1"
      },
      "execution_count": 3,
      "outputs": [
        {
          "output_type": "execute_result",
          "data": {
            "text/plain": [
              "'/usr/local/lib/python3.10/dist-packages/pyspark'"
            ],
            "application/vnd.google.colaboratory.intrinsic+json": {
              "type": "string"
            }
          },
          "metadata": {},
          "execution_count": 3
        }
      ]
    },
    {
      "cell_type": "code",
      "source": [
        "#import sparksession\n",
        "from pyspark.sql import SparkSession"
      ],
      "metadata": {
        "id": "_fI7jSqhbqsr"
      },
      "execution_count": 4,
      "outputs": []
    },
    {
      "cell_type": "code",
      "source": [
        "spark = SparkSession \\\n",
        "     .builder \\\n",
        "     .appName(\"Python Spark test\") \\\n",
        "     .getOrCreate() "
      ],
      "metadata": {
        "id": "fzLn7h9PbskK"
      },
      "execution_count": 5,
      "outputs": []
    },
    {
      "cell_type": "code",
      "source": [
        "#test if sparksession is created\n",
        "spark"
      ],
      "metadata": {
        "colab": {
          "base_uri": "https://localhost:8080/",
          "height": 219
        },
        "id": "NCFCRmLrb49Z",
        "outputId": "5052a38a-cd05-45ee-e7db-d6730a96a22d"
      },
      "execution_count": 6,
      "outputs": [
        {
          "output_type": "execute_result",
          "data": {
            "text/plain": [
              "<pyspark.sql.session.SparkSession at 0x7fb253ea4130>"
            ],
            "text/html": [
              "\n",
              "            <div>\n",
              "                <p><b>SparkSession - in-memory</b></p>\n",
              "                \n",
              "        <div>\n",
              "            <p><b>SparkContext</b></p>\n",
              "\n",
              "            <p><a href=\"http://e57eb0169c62:4040\">Spark UI</a></p>\n",
              "\n",
              "            <dl>\n",
              "              <dt>Version</dt>\n",
              "                <dd><code>v3.0.1</code></dd>\n",
              "              <dt>Master</dt>\n",
              "                <dd><code>local[*]</code></dd>\n",
              "              <dt>AppName</dt>\n",
              "                <dd><code>Python Spark test</code></dd>\n",
              "            </dl>\n",
              "        </div>\n",
              "        \n",
              "            </div>\n",
              "        "
            ]
          },
          "metadata": {},
          "execution_count": 6
        }
      ]
    },
    {
      "cell_type": "code",
      "source": [
        "#read data from csv into pyspark\n",
        "df = spark.read.format(\"csv\").load(\"/content/drive/MyDrive/Salt_transactions.csv\",header = True)"
      ],
      "metadata": {
        "id": "_pTp5_Orb_GX"
      },
      "execution_count": 7,
      "outputs": []
    },
    {
      "cell_type": "code",
      "source": [],
      "metadata": {
        "id": "XlD3CWP7bgSt"
      },
      "execution_count": 7,
      "outputs": []
    },
    {
      "cell_type": "code",
      "source": [
        "df.show()"
      ],
      "metadata": {
        "colab": {
          "base_uri": "https://localhost:8080/"
        },
        "id": "u2Vi-NY6cRvY",
        "outputId": "a78ab0c8-a80b-4376-952c-278d6c7e95d0"
      },
      "execution_count": 8,
      "outputs": [
        {
          "output_type": "stream",
          "name": "stdout",
          "text": [
            "+-----------+-----------+-----------------------+--------------+------------------------+--------------------------+-----------+--------------------+----------------------+------------------------+\n",
            "|merchant_id|terminal_id|transaction_create_date|transaction_id|transaction_total_amount|merchant_registration_date|has_loyalty|transaction_currency|transaction_tip_amount|transaction_account_type|\n",
            "+-----------+-----------+-----------------------+--------------+------------------------+--------------------------+-----------+--------------------+----------------------+------------------------+\n",
            "|         17|    5589368|   2021-01-20 15:02:...|      25707962|                    9060|      2020-08-13 22:31:...|       null|                 ISK|                     0|                   Debit|\n",
            "|         17|    5589368|   2020-09-22 15:03:...|       2857362|                    4500|      2020-08-13 22:31:...|       null|                 ISK|                     0|                    null|\n",
            "|         17|    5589368|   2021-05-10 15:33:...|      51950962|                    6370|      2020-08-13 22:31:...|       null|                 ISK|                     0|                   Debit|\n",
            "|         17|    5589368|   2021-05-10 16:53:...|      51999387|                   11330|      2020-08-13 22:31:...|       null|                 ISK|                     0|                   Debit|\n",
            "|         17|    5589368|   2021-05-10 18:19:...|      52037737|                    1500|      2020-08-13 22:31:...|       null|                 ISK|                     0|                   Debit|\n",
            "|         17|    5589368|   2021-05-10 18:25:...|      52039287|                    2000|      2020-08-13 22:31:...|       null|                 ISK|                     0|                 Unknown|\n",
            "|         17|    5589368|   2021-05-10 14:29:...|      51910287|                    2500|      2020-08-13 22:31:...|       null|                 ISK|                     0|                   Debit|\n",
            "|         17|    5589368|   2021-05-10 16:08:...|      51973237|                    4210|      2020-08-13 22:31:...|       null|                 ISK|                     0|                   Debit|\n",
            "|         17|    5589368|   2021-05-13 14:51:...|      52924537|                     900|      2020-08-13 22:31:...|       null|                 ISK|                     0|                   Debit|\n",
            "|         17|    5589368|   2021-02-06 15:03:...|      29800287|                    1800|      2020-08-13 22:31:...|       null|                 ISK|                     0|                   Debit|\n",
            "|         17|    5589368|   2021-05-10 11:47:...|      51810087|                    5920|      2020-08-13 22:31:...|       null|                 ISK|                     0|                  Credit|\n",
            "|         17|    5589368|   2021-05-10 15:39:...|      51954637|                    6320|      2020-08-13 22:31:...|       null|                 ISK|                     0|                   Debit|\n",
            "|         17|    5589368|   2021-05-10 15:40:...|      51955162|                    2500|      2020-08-13 22:31:...|       null|                 ISK|                     0|                   Debit|\n",
            "|         17|    5589368|   2021-05-10 17:54:...|      52028737|                    3760|      2020-08-13 22:31:...|       null|                 ISK|                     0|                   Debit|\n",
            "|         17|    5589368|   2021-05-10 15:07:...|      51933587|                     900|      2020-08-13 22:31:...|       null|                 ISK|                     0|                   Debit|\n",
            "|         17|    5589368|   2021-02-12 13:47:...|      31124637|                    7450|      2020-08-13 22:31:...|       null|                 ISK|                     0|                   Debit|\n",
            "|         17|    5589368|   2021-05-19 11:13:...|      54612337|                    6750|      2020-08-13 22:31:...|       null|                 ISK|                     0|                   Debit|\n",
            "|         17|    5589368|   2021-05-19 15:57:...|      54785987|                    3900|      2020-08-13 22:31:...|       null|                 ISK|                     0|                   Debit|\n",
            "|         17|    5589368|   2021-05-22 16:24:...|      55861237|                    5000|      2020-08-13 22:31:...|       null|                 ISK|                     0|                   Debit|\n",
            "|         17|    5589368|   2021-05-22 16:29:...|      55862862|                    2500|      2020-08-13 22:31:...|       null|                 ISK|                     0|                  Credit|\n",
            "+-----------+-----------+-----------------------+--------------+------------------------+--------------------------+-----------+--------------------+----------------------+------------------------+\n",
            "only showing top 20 rows\n",
            "\n"
          ]
        }
      ]
    },
    {
      "cell_type": "code",
      "source": [
        "#use partiion and order by in pyspark to rank the merchant id and orderby transaction create date\n",
        "from pyspark.sql.window import Window\n",
        "from pyspark.sql.functions import row_number\n",
        "windowpart = Window.partitionBy(\"merchant_id\").orderBy(\"transaction_create_date\")\n",
        "dfwindow = df.withColumn(\"Rank_per_Merchantid\",row_number().over(windowpart))   \n"
      ],
      "metadata": {
        "id": "oa8lAGh9cZ0L"
      },
      "execution_count": 9,
      "outputs": []
    },
    {
      "cell_type": "code",
      "source": [
        "#view result\n",
        "dfwindow.show()"
      ],
      "metadata": {
        "colab": {
          "base_uri": "https://localhost:8080/"
        },
        "id": "6Lh6e9MGo0NG",
        "outputId": "6653ea67-06e4-4515-e2e5-cb5e16cc6070"
      },
      "execution_count": 10,
      "outputs": [
        {
          "output_type": "stream",
          "name": "stdout",
          "text": [
            "+-----------+-----------+-----------------------+--------------+------------------------+--------------------------+-----------+--------------------+----------------------+------------------------+-------------------+\n",
            "|merchant_id|terminal_id|transaction_create_date|transaction_id|transaction_total_amount|merchant_registration_date|has_loyalty|transaction_currency|transaction_tip_amount|transaction_account_type|Rank_per_Merchantid|\n",
            "+-----------+-----------+-----------------------+--------------+------------------------+--------------------------+-----------+--------------------+----------------------+------------------------+-------------------+\n",
            "|         11|    5634017|   2020-09-02 14:03:...|        576987|                     100|      2020-08-26 00:18:...|       null|                 ISK|                     0|                    null|                  1|\n",
            "|         11|    5634017|   2020-09-02 14:04:...|        577137|                45000000|      2020-08-26 00:18:...|       null|                 ISK|                     0|                    null|                  2|\n",
            "|         11|    5709293|   2020-09-02 14:31:...|        582687|                     990|      2020-08-26 00:18:...|       null|                 ISK|                     0|                    null|                  3|\n",
            "|         11|    5709293|   2020-09-02 14:31:...|        582787|                    1540|      2020-08-26 00:18:...|       null|                 ISK|                     0|                    null|                  4|\n",
            "|         11|    5709293|   2020-09-02 15:15:...|        591037|                     450|      2020-08-26 00:18:...|       null|                 ISK|                     0|                    null|                  5|\n",
            "|         11|    5709293|   2020-09-02 15:28:...|        593312|                    2600|      2020-08-26 00:18:...|       null|                 ISK|                     0|                    null|                  6|\n",
            "|         11|    5709293|   2020-09-02 15:38:...|        595337|                    1100|      2020-08-26 00:18:...|       null|                 ISK|                     0|                    null|                  7|\n",
            "|         11|    5709293|   2020-09-02 15:38:...|        595462|                    1100|      2020-08-26 00:18:...|       null|                 ISK|                     0|                    null|                  8|\n",
            "|         11|    5709293|   2020-09-02 15:43:...|        596387|                     450|      2020-08-26 00:18:...|       null|                 ISK|                     0|                    null|                  9|\n",
            "|         11|    5634017|   2020-09-02 17:11:...|        612662|                     900|      2020-08-26 00:18:...|       null|                 ISK|                     0|                    null|                 10|\n",
            "|         11|    5634017|   2020-09-02 17:11:...|        612762|                     900|      2020-08-26 00:18:...|       null|                 ISK|                     0|                    null|                 11|\n",
            "|         11|    5634017|   2020-09-02 17:11:...|        612837|                     900|      2020-08-26 00:18:...|       null|                 ISK|                     0|                    null|                 12|\n",
            "|         11|    5634017|   2020-09-02 17:12:...|        612862|                     900|      2020-08-26 00:18:...|       null|                 ISK|                     0|                    null|                 13|\n",
            "|         11|    5634017|   2020-09-02 17:18:...|        613862|                     900|      2020-08-26 00:18:...|       null|                 ISK|                     0|                    null|                 14|\n",
            "|         11|    5634017|   2020-09-02 17:28:...|        615162|                     900|      2020-08-26 00:18:...|       null|                 ISK|                     0|                    null|                 15|\n",
            "|         11|    5634017|   2020-09-02 17:38:...|        616087|                     700|      2020-08-26 00:18:...|       null|                 ISK|                     0|                    null|                 16|\n",
            "|         11|    5634017|   2020-09-02 17:46:...|        617337|                    1600|      2020-08-26 00:18:...|       null|                 ISK|                     0|                    null|                 17|\n",
            "|         11|    5634017|   2020-09-02 17:49:...|        617737|                    1500|      2020-08-26 00:18:...|       null|                 ISK|                     0|                    null|                 18|\n",
            "|         11|    5634017|   2020-09-02 17:55:...|        618637|                     800|      2020-08-26 00:18:...|       null|                 ISK|                     0|                    null|                 19|\n",
            "|         11|    5634017|   2020-09-02 17:56:...|        618812|                     850|      2020-08-26 00:18:...|       null|                 ISK|                     0|                    null|                 20|\n",
            "+-----------+-----------+-----------------------+--------------+------------------------+--------------------------+-----------+--------------------+----------------------+------------------------+-------------------+\n",
            "only showing top 20 rows\n",
            "\n"
          ]
        }
      ]
    },
    {
      "cell_type": "code",
      "source": [
        "#view schema\n",
        "dfwindow.printSchema()"
      ],
      "metadata": {
        "colab": {
          "base_uri": "https://localhost:8080/"
        },
        "id": "HYVaZTuno28M",
        "outputId": "5fa7ae4c-bb9a-49a3-a72b-79a792695f4b"
      },
      "execution_count": 11,
      "outputs": [
        {
          "output_type": "stream",
          "name": "stdout",
          "text": [
            "root\n",
            " |-- merchant_id: string (nullable = true)\n",
            " |-- terminal_id: string (nullable = true)\n",
            " |-- transaction_create_date: string (nullable = true)\n",
            " |-- transaction_id: string (nullable = true)\n",
            " |-- transaction_total_amount: string (nullable = true)\n",
            " |-- merchant_registration_date: string (nullable = true)\n",
            " |-- has_loyalty: string (nullable = true)\n",
            " |-- transaction_currency: string (nullable = true)\n",
            " |-- transaction_tip_amount: string (nullable = true)\n",
            " |-- transaction_account_type: string (nullable = true)\n",
            " |-- Rank_per_Merchantid: integer (nullable = true)\n",
            "\n"
          ]
        }
      ]
    },
    {
      "cell_type": "code",
      "source": [
        "from pyspark.sql.functions import col, lit\n",
        "dforderby_id = dfwindow.orderBy(col(\"merchant_id\").asc(),col(\"Rank_per_Merchantid\").asc())"
      ],
      "metadata": {
        "id": "2LKkdBa2rO1P"
      },
      "execution_count": 12,
      "outputs": []
    },
    {
      "cell_type": "code",
      "source": [
        "#check result of using window function\n",
        "dforderby_id.show(truncate = False)"
      ],
      "metadata": {
        "colab": {
          "base_uri": "https://localhost:8080/"
        },
        "id": "GKm_gF4uyi5A",
        "outputId": "8a32f4ae-b1ad-481b-d3c2-509df7188e37"
      },
      "execution_count": 13,
      "outputs": [
        {
          "output_type": "stream",
          "name": "stdout",
          "text": [
            "+-----------+-----------+--------------------------+--------------+------------------------+--------------------------+-----------+--------------------+----------------------+------------------------+-------------------+\n",
            "|merchant_id|terminal_id|transaction_create_date   |transaction_id|transaction_total_amount|merchant_registration_date|has_loyalty|transaction_currency|transaction_tip_amount|transaction_account_type|Rank_per_Merchantid|\n",
            "+-----------+-----------+--------------------------+--------------+------------------------+--------------------------+-----------+--------------------+----------------------+------------------------+-------------------+\n",
            "|10         |5485679    |2020-08-26 13:33:41.000000|162237        |1                       |2020-08-13 22:31:16.000000|null       |ISK                 |0                     |null                    |1                  |\n",
            "|10         |5485679    |2020-08-26 13:46:16.000000|162762        |300                     |2020-08-13 22:31:16.000000|null       |ISK                 |0                     |null                    |2                  |\n",
            "|10         |5485679    |2020-08-26 14:06:38.000000|163637        |1900                    |2020-08-13 22:31:16.000000|null       |ISK                 |0                     |null                    |3                  |\n",
            "|10         |5467229    |2020-08-26 14:35:57.000000|165412        |2500                    |2020-08-13 22:31:16.000000|null       |ISK                 |0                     |null                    |4                  |\n",
            "|10         |5485679    |2020-08-26 15:22:54.000000|168537        |12300                   |2020-08-13 22:31:16.000000|null       |ISK                 |0                     |null                    |5                  |\n",
            "|10         |5485679    |2020-08-26 15:23:21.000000|168637        |12300                   |2020-08-13 22:31:16.000000|null       |ISK                 |0                     |null                    |6                  |\n",
            "|10         |5485679    |2020-08-26 15:24:25.000000|168712        |12300                   |2020-08-13 22:31:16.000000|null       |ISK                 |0                     |null                    |7                  |\n",
            "|10         |5467229    |2020-08-26 15:31:05.000000|169262        |2000                    |2020-08-13 22:31:16.000000|null       |ISK                 |0                     |null                    |8                  |\n",
            "|10         |5467229    |2020-08-26 15:32:00.000000|169362        |2000                    |2020-08-13 22:31:16.000000|null       |ISK                 |0                     |null                    |9                  |\n",
            "|10         |5467229    |2020-08-26 15:32:18.000000|169412        |2000                    |2020-08-13 22:31:16.000000|null       |ISK                 |0                     |null                    |10                 |\n",
            "|10         |5467229    |2020-08-26 15:51:23.000000|171212        |1000                    |2020-08-13 22:31:16.000000|null       |ISK                 |0                     |null                    |11                 |\n",
            "|10         |5467229    |2020-08-26 15:52:07.000000|171312        |1000                    |2020-08-13 22:31:16.000000|null       |ISK                 |0                     |null                    |12                 |\n",
            "|10         |5467229    |2020-08-26 15:52:39.000000|171337        |1000                    |2020-08-13 22:31:16.000000|null       |ISK                 |0                     |null                    |13                 |\n",
            "|10         |5485679    |2020-08-26 15:55:46.000000|171537        |1200                    |2020-08-13 22:31:16.000000|null       |ISK                 |0                     |null                    |14                 |\n",
            "|10         |5467229    |2020-08-26 16:40:33.000000|174187        |2000                    |2020-08-13 22:31:16.000000|null       |ISK                 |0                     |null                    |15                 |\n",
            "|10         |5467229    |2020-08-26 17:00:03.000000|175937        |3450                    |2020-08-13 22:31:16.000000|null       |ISK                 |0                     |null                    |16                 |\n",
            "|10         |5485679    |2020-08-26 17:00:19.000000|176012        |3450                    |2020-08-13 22:31:16.000000|null       |ISK                 |0                     |null                    |17                 |\n",
            "|10         |5485679    |2020-08-26 17:09:11.000000|176812        |1800                    |2020-08-13 22:31:16.000000|null       |ISK                 |0                     |null                    |18                 |\n",
            "|10         |5485679    |2020-08-26 17:09:54.000000|176862        |1800                    |2020-08-13 22:31:16.000000|null       |ISK                 |0                     |null                    |19                 |\n",
            "|10         |5467229    |2020-08-26 17:14:21.000000|177012        |1600                    |2020-08-13 22:31:16.000000|null       |ISK                 |0                     |null                    |20                 |\n",
            "+-----------+-----------+--------------------------+--------------+------------------------+--------------------------+-----------+--------------------+----------------------+------------------------+-------------------+\n",
            "only showing top 20 rows\n",
            "\n"
          ]
        }
      ]
    },
    {
      "cell_type": "code",
      "source": [
        "#checks\n",
        "dforderby_id.filter(\"merchant_id == '2'\").show()"
      ],
      "metadata": {
        "colab": {
          "base_uri": "https://localhost:8080/"
        },
        "id": "lPooBxClytRm",
        "outputId": "6d797f23-86bb-487d-ac9f-4e7af5f18395"
      },
      "execution_count": 14,
      "outputs": [
        {
          "output_type": "stream",
          "name": "stdout",
          "text": [
            "+-----------+-----------+-----------------------+--------------+------------------------+--------------------------+-----------+--------------------+----------------------+------------------------+-------------------+\n",
            "|merchant_id|terminal_id|transaction_create_date|transaction_id|transaction_total_amount|merchant_registration_date|has_loyalty|transaction_currency|transaction_tip_amount|transaction_account_type|Rank_per_Merchantid|\n",
            "+-----------+-----------+-----------------------+--------------+------------------------+--------------------------+-----------+--------------------+----------------------+------------------------+-------------------+\n",
            "|          2|    5544719|   2020-09-03 14:28:...|        685387|                     449|      2020-08-13 22:31:...|       null|                 ISK|                     0|                    null|                  1|\n",
            "|          2|    5544719|   2020-09-03 14:30:...|        685662|                     570|      2020-08-13 22:31:...|       null|                 ISK|                     0|                    null|                  2|\n",
            "|          2|    5544719|   2020-09-03 14:50:...|        690487|                     395|      2020-08-13 22:31:...|       null|                 ISK|                     0|                    null|                  3|\n",
            "|          2|    5544719|   2020-09-03 14:52:...|        690987|                     395|      2020-08-13 22:31:...|       null|                 ISK|                     0|                    null|                  4|\n",
            "|          2|    5544719|   2020-09-03 15:02:...|        692937|                     525|      2020-08-13 22:31:...|       null|                 ISK|                     0|                    null|                  5|\n",
            "|          2|    5544719|   2020-09-03 15:03:...|        693162|                    2300|      2020-08-13 22:31:...|       null|                 ISK|                     0|                    null|                  6|\n",
            "|          2|    5544719|   2020-09-03 15:05:...|        693562|                    1244|      2020-08-13 22:31:...|       null|                 ISK|                     0|                    null|                  7|\n",
            "|          2|    5544719|   2020-09-03 15:11:...|        694612|                    4120|      2020-08-13 22:31:...|       null|                 ISK|                     0|                    null|                  8|\n",
            "|          2|    5544719|   2020-09-03 15:13:...|        694962|                      75|      2020-08-13 22:31:...|       null|                 ISK|                     0|                    null|                  9|\n",
            "|          2|    5544719|   2020-09-03 15:19:...|        696037|                    2675|      2020-08-13 22:31:...|       null|                 ISK|                     0|                    null|                 10|\n",
            "|          2|    5544719|   2020-09-03 15:33:...|        698712|                     295|      2020-08-13 22:31:...|       null|                 ISK|                     0|                    null|                 11|\n",
            "|          2|    5544719|   2020-09-03 15:39:...|        699687|                     900|      2020-08-13 22:31:...|       null|                 ISK|                     0|                    null|                 12|\n",
            "|          2|    5544719|   2020-09-03 15:55:...|        703087|                     295|      2020-08-13 22:31:...|       null|                 ISK|                     0|                    null|                 13|\n",
            "|          2|    5544719|   2020-09-03 15:58:...|        703687|                    1070|      2020-08-13 22:31:...|       null|                 ISK|                     0|                    null|                 14|\n",
            "|          2|    5544719|   2020-09-03 16:00:...|        703962|                     510|      2020-08-13 22:31:...|       null|                 ISK|                     0|                    null|                 15|\n",
            "|          2|    5544719|   2020-09-03 16:01:...|        704062|                    1510|      2020-08-13 22:31:...|       null|                 ISK|                     0|                    null|                 16|\n",
            "|          2|    5544719|   2020-09-03 16:03:...|        704512|                   51409|      2020-08-13 22:31:...|       null|                 ISK|                     0|                    null|                 17|\n",
            "|          2|    5544719|   2020-09-03 16:05:...|        704887|                     395|      2020-08-13 22:31:...|       null|                 ISK|                     0|                    null|                 18|\n",
            "|          2|    5544719|   2020-09-03 16:14:...|        706237|                    3000|      2020-08-13 22:31:...|       null|                 ISK|                     0|                    null|                 19|\n",
            "|          2|    5544719|   2020-09-03 16:45:...|        711512|                     100|      2020-08-13 22:31:...|       null|                 ISK|                     0|                    null|                 20|\n",
            "+-----------+-----------+-----------------------+--------------+------------------------+--------------------------+-----------+--------------------+----------------------+------------------------+-------------------+\n",
            "only showing top 20 rows\n",
            "\n"
          ]
        }
      ]
    },
    {
      "cell_type": "code",
      "source": [
        "#df.where(col(\"transaction_account_type\").isNull()).count()"
      ],
      "metadata": {
        "colab": {
          "base_uri": "https://localhost:8080/"
        },
        "id": "l-OhJzVv3k6l",
        "outputId": "0e460837-a634-47d5-a427-2794da2ea885"
      },
      "execution_count": 15,
      "outputs": [
        {
          "output_type": "execute_result",
          "data": {
            "text/plain": [
              "38230"
            ]
          },
          "metadata": {},
          "execution_count": 15
        }
      ]
    },
    {
      "cell_type": "code",
      "source": [
        "#save as csv to your drive\n",
        "dforderby_id.coalesce(1).write.csv(\"Teya/Teya analysis.csv\", mode = 'overwrite', header = True)"
      ],
      "metadata": {
        "id": "vQg9yXMdxgFS"
      },
      "execution_count": 16,
      "outputs": []
    },
    {
      "cell_type": "code",
      "source": [
        "# split date to month and yr\n",
        "from pyspark.sql.functions import date_format\n",
        "dforderby_id = dforderby_id.withColumn(\"Year\",date_format(\"transaction_create_date\",'yyyy')) \\\n",
        "               .withColumn(\"Month\", date_format(\"transaction_create_date\",'MM'))           "
      ],
      "metadata": {
        "id": "WJZ4S2Vq9tga"
      },
      "execution_count": 17,
      "outputs": []
    },
    {
      "cell_type": "code",
      "source": [
        "# import sql functions\n",
        "from pyspark.sql.functions import col, concat_ws, sum,lit"
      ],
      "metadata": {
        "id": "fMm3qglM08-k"
      },
      "execution_count": 18,
      "outputs": []
    },
    {
      "cell_type": "code",
      "source": [
        "#concat date to month/yr\n",
        "from pyspark.sql.functions import concat,lit\n",
        "dforderby_id = dforderby_id.withColumn(\"MonthYr\", concat(\"Month\",lit(\"/\"), \"Year\"))"
      ],
      "metadata": {
        "id": "wkmxUUgOhpJS"
      },
      "execution_count": 19,
      "outputs": []
    },
    {
      "cell_type": "code",
      "source": [
        "#check\n",
        "dforderby_id.show()"
      ],
      "metadata": {
        "colab": {
          "base_uri": "https://localhost:8080/"
        },
        "id": "hI9O_sekD1BY",
        "outputId": "c83638d9-2589-42ee-cb0b-1f0af3944677"
      },
      "execution_count": 20,
      "outputs": [
        {
          "output_type": "stream",
          "name": "stdout",
          "text": [
            "+-----------+-----------+-----------------------+--------------+------------------------+--------------------------+-----------+--------------------+----------------------+------------------------+-------------------+----+-----+-------+\n",
            "|merchant_id|terminal_id|transaction_create_date|transaction_id|transaction_total_amount|merchant_registration_date|has_loyalty|transaction_currency|transaction_tip_amount|transaction_account_type|Rank_per_Merchantid|Year|Month|MonthYr|\n",
            "+-----------+-----------+-----------------------+--------------+------------------------+--------------------------+-----------+--------------------+----------------------+------------------------+-------------------+----+-----+-------+\n",
            "|         10|    5485679|   2020-08-26 13:33:...|        162237|                       1|      2020-08-13 22:31:...|       null|                 ISK|                     0|                    null|                  1|2020|   08|08/2020|\n",
            "|         10|    5485679|   2020-08-26 13:46:...|        162762|                     300|      2020-08-13 22:31:...|       null|                 ISK|                     0|                    null|                  2|2020|   08|08/2020|\n",
            "|         10|    5485679|   2020-08-26 14:06:...|        163637|                    1900|      2020-08-13 22:31:...|       null|                 ISK|                     0|                    null|                  3|2020|   08|08/2020|\n",
            "|         10|    5467229|   2020-08-26 14:35:...|        165412|                    2500|      2020-08-13 22:31:...|       null|                 ISK|                     0|                    null|                  4|2020|   08|08/2020|\n",
            "|         10|    5485679|   2020-08-26 15:22:...|        168537|                   12300|      2020-08-13 22:31:...|       null|                 ISK|                     0|                    null|                  5|2020|   08|08/2020|\n",
            "|         10|    5485679|   2020-08-26 15:23:...|        168637|                   12300|      2020-08-13 22:31:...|       null|                 ISK|                     0|                    null|                  6|2020|   08|08/2020|\n",
            "|         10|    5485679|   2020-08-26 15:24:...|        168712|                   12300|      2020-08-13 22:31:...|       null|                 ISK|                     0|                    null|                  7|2020|   08|08/2020|\n",
            "|         10|    5467229|   2020-08-26 15:31:...|        169262|                    2000|      2020-08-13 22:31:...|       null|                 ISK|                     0|                    null|                  8|2020|   08|08/2020|\n",
            "|         10|    5467229|   2020-08-26 15:32:...|        169362|                    2000|      2020-08-13 22:31:...|       null|                 ISK|                     0|                    null|                  9|2020|   08|08/2020|\n",
            "|         10|    5467229|   2020-08-26 15:32:...|        169412|                    2000|      2020-08-13 22:31:...|       null|                 ISK|                     0|                    null|                 10|2020|   08|08/2020|\n",
            "|         10|    5467229|   2020-08-26 15:51:...|        171212|                    1000|      2020-08-13 22:31:...|       null|                 ISK|                     0|                    null|                 11|2020|   08|08/2020|\n",
            "|         10|    5467229|   2020-08-26 15:52:...|        171312|                    1000|      2020-08-13 22:31:...|       null|                 ISK|                     0|                    null|                 12|2020|   08|08/2020|\n",
            "|         10|    5467229|   2020-08-26 15:52:...|        171337|                    1000|      2020-08-13 22:31:...|       null|                 ISK|                     0|                    null|                 13|2020|   08|08/2020|\n",
            "|         10|    5485679|   2020-08-26 15:55:...|        171537|                    1200|      2020-08-13 22:31:...|       null|                 ISK|                     0|                    null|                 14|2020|   08|08/2020|\n",
            "|         10|    5467229|   2020-08-26 16:40:...|        174187|                    2000|      2020-08-13 22:31:...|       null|                 ISK|                     0|                    null|                 15|2020|   08|08/2020|\n",
            "|         10|    5467229|   2020-08-26 17:00:...|        175937|                    3450|      2020-08-13 22:31:...|       null|                 ISK|                     0|                    null|                 16|2020|   08|08/2020|\n",
            "|         10|    5485679|   2020-08-26 17:00:...|        176012|                    3450|      2020-08-13 22:31:...|       null|                 ISK|                     0|                    null|                 17|2020|   08|08/2020|\n",
            "|         10|    5485679|   2020-08-26 17:09:...|        176812|                    1800|      2020-08-13 22:31:...|       null|                 ISK|                     0|                    null|                 18|2020|   08|08/2020|\n",
            "|         10|    5485679|   2020-08-26 17:09:...|        176862|                    1800|      2020-08-13 22:31:...|       null|                 ISK|                     0|                    null|                 19|2020|   08|08/2020|\n",
            "|         10|    5467229|   2020-08-26 17:14:...|        177012|                    1600|      2020-08-13 22:31:...|       null|                 ISK|                     0|                    null|                 20|2020|   08|08/2020|\n",
            "+-----------+-----------+-----------------------+--------------+------------------------+--------------------------+-----------+--------------------+----------------------+------------------------+-------------------+----+-----+-------+\n",
            "only showing top 20 rows\n",
            "\n"
          ]
        }
      ]
    },
    {
      "cell_type": "code",
      "source": [
        "#aggregate merchant_id 10 using month/yr and summing up the transaction\n",
        "merchant_id_10 = dforderby_id.filter(dforderby_id.merchant_id == 10)\n",
        "merchant_id_10 = merchant_id_10.groupby('MonthYr').agg(sum(\"transaction_total_amount\").alias(\"sum_of_transactions\"))"
      ],
      "metadata": {
        "id": "NZ7krUoWF9JM"
      },
      "execution_count": 21,
      "outputs": []
    },
    {
      "cell_type": "code",
      "source": [
        "#check\n",
        "merchant_id_10 = merchant_id_10.orderBy(merchant_id_10.MonthYr.desc())\n",
        "merchant_id_10.show()"
      ],
      "metadata": {
        "colab": {
          "base_uri": "https://localhost:8080/"
        },
        "id": "2bOKrHb5QzAP",
        "outputId": "1c554d73-a77e-4ea6-a7b2-5e4eb3258f8e"
      },
      "execution_count": 22,
      "outputs": [
        {
          "output_type": "stream",
          "name": "stdout",
          "text": [
            "+-------+-------------------+\n",
            "|MonthYr|sum_of_transactions|\n",
            "+-------+-------------------+\n",
            "|10/2020|          1752544.0|\n",
            "|09/2020|       1.10093542E8|\n",
            "|08/2020|          1616641.0|\n",
            "|06/2021|          7248735.0|\n",
            "|05/2021|          7068529.0|\n",
            "|04/2021|          3008022.0|\n",
            "|03/2021|          6756523.0|\n",
            "|02/2021|        6.0688573E7|\n",
            "+-------+-------------------+\n",
            "\n"
          ]
        }
      ]
    },
    {
      "cell_type": "code",
      "source": [
        "merchant_id_10.printSchema()"
      ],
      "metadata": {
        "colab": {
          "base_uri": "https://localhost:8080/"
        },
        "id": "6-EERyB-XVQt",
        "outputId": "86bcfc5d-4360-4c94-8b16-0c92d7b4b410"
      },
      "execution_count": 23,
      "outputs": [
        {
          "output_type": "stream",
          "name": "stdout",
          "text": [
            "root\n",
            " |-- MonthYr: string (nullable = true)\n",
            " |-- sum_of_transactions: double (nullable = true)\n",
            "\n"
          ]
        }
      ]
    },
    {
      "cell_type": "code",
      "source": [
        "from pyspark.sql import SparkSession\n",
        "from pyspark.sql.functions import to_date, year, month\n",
        "from pyspark.ml.feature import VectorAssembler\n",
        "from pyspark.ml.regression import LinearRegression\n",
        "from pyspark.ml.evaluation import RegressionEvaluator"
      ],
      "metadata": {
        "id": "mn6JAcayXj5M"
      },
      "execution_count": 24,
      "outputs": []
    },
    {
      "cell_type": "code",
      "source": [
        "data = merchant_id_10"
      ],
      "metadata": {
        "id": "_QE-yAlgXlhI"
      },
      "execution_count": 25,
      "outputs": []
    },
    {
      "cell_type": "code",
      "source": [
        "# convert MonthYr to a DateType and extract year and month\n",
        "data = data.withColumn(\"Date\", to_date(data.MonthYr, \"MM/yyyy\")) \\\n",
        "           .withColumn(\"Year\", year(\"Date\")) \\\n",
        "           .withColumn(\"Month\", month(\"Date\"))\n",
        "\n",
        "# aggregate the data by year and month\n",
        "agg_data = data.groupBy(\"Year\", \"Month\").sum(\"sum_of_transactions\") \\\n",
        "               .withColumnRenamed(\"sum(sum_of_transactions)\", \"sum_of_transactions\")\n",
        "\n",
        "# split the data into training and testing sets\n",
        "train_data, test_data = agg_data.randomSplit([0.7, 0.3], seed=1234)\n",
        "\n",
        "# assemble the feature vector\n",
        "assembler = VectorAssembler(inputCols=[\"Year\", \"Month\"], outputCol=\"features\")\n",
        "train_data = assembler.transform(train_data)\n",
        "test_data = assembler.transform(test_data)\n",
        "\n",
        "# train the linear regression model\n",
        "lr = LinearRegression(featuresCol=\"features\", labelCol=\"sum_of_transactions\")\n",
        "lr_model = lr.fit(train_data)\n",
        "\n",
        "# evaluate the model on the testing data\n",
        "predictions = lr_model.transform(test_data)\n",
        "evaluator = RegressionEvaluator(labelCol=\"sum_of_transactions\", predictionCol=\"prediction\", metricName=\"rmse\")\n",
        "rmse = evaluator.evaluate(predictions)\n",
        "print(\"Root Mean Squared Error (RMSE) on testing data:\", rmse)\n",
        "\n",
        "# predict the sum_of_transactions for the next 3 months\n",
        "future_data = spark.createDataFrame([(2021, 7), (2021, 8), (2021, 9)], [\"Year\", \"Month\"])\n",
        "future_data = assembler.transform(future_data)\n",
        "predictions = lr_model.transform(future_data)\n",
        "predictions.show()"
      ],
      "metadata": {
        "colab": {
          "base_uri": "https://localhost:8080/"
        },
        "id": "NOosvHj-XvV8",
        "outputId": "82f065ea-9988-4e3b-9d6d-60f4097f2691"
      },
      "execution_count": 26,
      "outputs": [
        {
          "output_type": "stream",
          "name": "stdout",
          "text": [
            "Root Mean Squared Error (RMSE) on testing data: 55681167.47490281\n",
            "+----+-----+------------+--------------------+\n",
            "|Year|Month|    features|          prediction|\n",
            "+----+-----+------------+--------------------+\n",
            "|2021|    7|[2021.0,7.0]|-3.27084811735534...|\n",
            "|2021|    8|[2021.0,8.0]|-4.874969494128418E7|\n",
            "|2021|    9|[2021.0,9.0]|-6.479090870901489E7|\n",
            "+----+-----+------------+--------------------+\n",
            "\n"
          ]
        }
      ]
    }
  ]
}