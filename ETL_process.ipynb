{
  "nbformat": 4,
  "nbformat_minor": 0,
  "metadata": {
    "colab": {
      "provenance": [],
      "mount_file_id": "1-VqsNwqYNZ6mWGUz7CaljN_PHISJ966Q",
      "authorship_tag": "ABX9TyOgx7F/kbfaOlzhC4ei8/Ux",
      "include_colab_link": true
    },
    "kernelspec": {
      "name": "python3",
      "display_name": "Python 3"
    },
    "language_info": {
      "name": "python"
    }
  },
  "cells": [
    {
      "cell_type": "markdown",
      "metadata": {
        "id": "view-in-github",
        "colab_type": "text"
      },
      "source": [
        "<a href=\"https://colab.research.google.com/github/ogheneakpobohdjebah/GitRepo/blob/main/ETL_process.ipynb\" target=\"_parent\"><img src=\"https://colab.research.google.com/assets/colab-badge.svg\" alt=\"Open In Colab\"/></a>"
      ]
    },
    {
      "cell_type": "code",
      "execution_count": null,
      "metadata": {
        "id": "qb4eBRpz00Xk"
      },
      "outputs": [],
      "source": [
        "#import your library\n",
        "import pandas as pd"
      ]
    },
    {
      "cell_type": "code",
      "source": [
        "#create a class for your etl process\n",
        "class ETLProcess:\n",
        "    def __init__(self,df1,df2,key):\n",
        "        self.df1 = df1\n",
        "        self.df2 = df2\n",
        "        self.key = key\n",
        "\n",
        "    def Extract(self):\n",
        "        self.df1 = pd.read_excel(self.df1)\n",
        "        self.df2 = pd.read_excel(self.df2)\n",
        "\n",
        "    def Transform(self):\n",
        "        self.joined_df = pd.merge(self.df1,self.df2,on = self.key, how= 'left')\n",
        "      #return joined_df\n",
        "\n",
        "    def Load(self):\n",
        "        self.joined_df.to_excel('Extract.xlsx', index=False)\n",
        "\n",
        "#create an instance of the class etl1\n",
        "etl1 = ETLProcess('/content/drive/MyDrive/Colab Notebooks/AdventureworksCustomerTable.xlsx','/content/drive/MyDrive/Colab Notebooks/AdventureworksGeographTable.xlsx','GeographyKey')\n",
        "etl1.Extract()\n",
        "etl1.Transform()\n",
        "etl1.Load()"
      ],
      "metadata": {
        "id": "haaZyBwp3Q7G"
      },
      "execution_count": null,
      "outputs": []
    }
  ]
}