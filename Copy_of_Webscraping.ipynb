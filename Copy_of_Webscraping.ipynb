{
  "nbformat": 4,
  "nbformat_minor": 0,
  "metadata": {
    "colab": {
      "provenance": []
    },
    "kernelspec": {
      "name": "python3",
      "display_name": "Python 3"
    },
    "language_info": {
      "name": "python"
    }
  },
  "cells": [
    {
      "cell_type": "code",
      "execution_count": null,
      "metadata": {
        "id": "d6K6Qju5BEN2"
      },
      "outputs": [],
      "source": [
        "from bs4 import BeautifulSoup\n",
        "from csv import writer\n",
        "import requests\n",
        "\n",
        "url = \"https://www.gov.uk/search/services?organisations%5B%5D=rural-payments-agency&parent=rural-payments-agency&page=5\"\n",
        "page = requests.get(url)\n",
        "\n",
        "Soup = BeautifulSoup(page.content,'html.parser')\n",
        "#print(Soup)\n",
        "\n",
        "lists = Soup.find_all('li', class_ = \"gem-c-document-list__item\")\n",
        "\n",
        "with open('housing5.csv','w', encoding= 'utf8', newline = '') as f:\n",
        "  thewriter = writer(f)\n",
        "  header = ['title', 'description']\n",
        "  thewriter.writerow(header)\n",
        "  for list in lists:\n",
        "      title = list.find('a', class_=\"gem-c-document-list__item-title\").text.replace('\\n','')\n",
        "      description = list.find('p', class_=\"gem-c-document-list__item-description \").text.replace('\\n','')\n",
        "      info = [title, description]\n",
        "      thewriter.writerow(info)"
      ]
    }
  ]
}